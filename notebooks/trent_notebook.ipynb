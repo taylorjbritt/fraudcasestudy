{
 "cells": [
  {
   "cell_type": "code",
   "execution_count": 34,
   "metadata": {},
   "outputs": [],
   "source": [
    "import pandas as pd\n",
    "import numpy as np\n",
    "from datetime import datetime\n",
    "import re\n",
    "from sklearn import preprocessing\n",
    "from sklearn.linear_model import LogisticRegression\n",
    "from sklearn.model_selection import KFold, train_test_split\n",
    "from sklearn.metrics import accuracy_score, precision_score, recall_score, f1_score\n",
    "from sklearn.ensemble import RandomForestClassifier,AdaBoostRegressor\n",
    "from imblearn.over_sampling import SMOTE\n",
    "from sklearn.model_selection import GridSearchCV\n",
    "import pickle\n",
    "import json\n",
    "def get_num_tickets(val):\n",
    "    ticket_quant = []\n",
    "    for i in range(len(val)):\n",
    "        ticket_quant.append(val[i]['quantity_total'])\n",
    "    return sum(ticket_quant)\n",
    "def get_num_tiers(val):\n",
    "    ticket_quant = []\n",
    "    for i in range(len(val)):\n",
    "        ticket_quant.append(val[i]['quantity_total'])\n",
    "    return len(ticket_quant)\n",
    "def get_total_value(val):\n",
    "    ticket_costs = []\n",
    "    for i in range(len(val)):\n",
    "        ticket_costs.append(val[i]['cost'])\n",
    "    ticket_quant = []\n",
    "    for i in range(len(val)):\n",
    "        ticket_quant.append(val[i]['quantity_total'])\n",
    "    total = 0\n",
    "    for cost, quant in zip(ticket_costs, ticket_quant):\n",
    "        total += cost*quant\n",
    "    return total\n",
    "def get_max_ticket_cost(val):\n",
    "    ticket_costs = []\n",
    "    for i in range(len(val)):\n",
    "        ticket_costs.append(val[i]['cost'])\n",
    "    if len(ticket_costs) == 0:\n",
    "        return 0\n",
    "    else:\n",
    "        return max(ticket_costs)\n",
    "def get_min_ticket_cost(val):\n",
    "    ticket_costs = []\n",
    "    for i in range(len(val)):\n",
    "        ticket_costs.append(val[i]['cost'])\n",
    "    if len(ticket_costs) == 0:\n",
    "        return 0\n",
    "    else:\n",
    "        return min(ticket_costs)\n",
    "def clean_df(path_to_file):\n",
    "    df=pd.read_json(path_to_file)\n",
    "    df['tickets_total'] = df['ticket_types'].apply(get_num_tickets)\n",
    "    df['tiers'] = df['ticket_types'].apply(get_num_tiers)\n",
    "    df['max_cost'] = df['ticket_types'].apply(get_max_ticket_cost)\n",
    "    df['min_cost'] = df['ticket_types'].apply(get_min_ticket_cost)\n",
    "    df['total'] = df['ticket_types'].apply(get_total_value)\n",
    "    df['intl_trans'] = df['country'] != df['venue_country']\n",
    "    df['type_one_user'] = df['user_type'] == 1\n",
    "    df['org_desc_exists'] = [0 if len(df['org_desc'][i])==0 else 1 for i in range(len(df))]\n",
    "    df['org_name_exists'] = [0 if len(df['org_name'][i])==0 else 1 for i in range(len(df))]\n",
    "    df['previous_payout_count'] = [len(df.previous_payouts[i]) for i in range(len(df))]\n",
    "    df['org_facebook'].fillna(value=0, inplace=True)\n",
    "    df['org_twitter'].fillna(value=0, inplace=True)\n",
    "    df['org_facebook_exists'] = [0 if df['org_facebook'][i]==0 else 1 for i in range(len(df))]\n",
    "    df['org_twitter_exists'] = [0 if df['org_twitter'][i]==0 else 1 for i in range(len(df))]\n",
    "    emaillist = ['ymail.com','lidf.co.uk','live.fr','rocketmail.com','yahoo.fr']\n",
    "    df.loc[~df[\"email_domain\"].isin(emaillist), \"email_domain\"] = 0\n",
    "    df.loc[df[\"email_domain\"].isin(emaillist), \"email_domain\"] = 1\n",
    "    countrylist = ['MA','VN','A1','PK','PH','ID','NG','CI','CZ','DZ']\n",
    "    df.loc[~df[\"country\"].isin(countrylist), \"country\"] = 0\n",
    "    df.loc[df[\"country\"].isin(countrylist), \"country\"] = 1\n",
    "    df.drop(['show_map','object_id', 'name','name_length','num_order','num_payouts','org_facebook','org_twitter','payee_name','payout_type','previous_payouts','previous_payouts','org_name','org_desc','listed','fb_published','event_published','event_end','event_start','event_created','has_logo','has_header','currency','description','approx_payout_date','delivery_method','body_length','channels','gts','sale_duration', 'sale_duration2', 'ticket_types', 'user_created', 'user_type', 'venue_address', 'venue_country', 'venue_latitude', 'venue_longitude', 'venue_name', 'venue_state'],axis=1,inplace=True)\n",
    "    return df\n",
    "\n",
    "def clean_new_data2(df):\n",
    "    #df=pd.read_json(path_to_file)\n",
    "    df['tickets_total'] = df['ticket_types'].apply(get_num_tickets)\n",
    "    df['tiers'] = df['ticket_types'].apply(get_num_tiers)\n",
    "    df['max_cost'] = df['ticket_types'].apply(get_max_ticket_cost)\n",
    "    df['min_cost'] = df['ticket_types'].apply(get_min_ticket_cost)\n",
    "    df['total'] = df['ticket_types'].apply(get_total_value)\n",
    "    df['intl_trans'] = df['country'] != df['venue_country']\n",
    "    df['type_one_user'] = df['user_type'] == 1\n",
    "    df['org_desc_exists'] = [0 if len(df['org_desc'][i])==0 else 1 for i in range(len(df))]\n",
    "    df['org_name_exists'] = [0 if len(df['org_name'][i])==0 else 1 for i in range(len(df))]\n",
    "    df['previous_payout_count'] = [len(df.previous_payouts[i]) for i in range(len(df))]\n",
    "    df['org_facebook'].fillna(value=0, inplace=True)\n",
    "    df['org_twitter'].fillna(value=0, inplace=True)\n",
    "    df['org_facebook_exists'] = [0 if df['org_facebook'][i]==0 else 1 for i in range(len(df))]\n",
    "    df['org_twitter_exists'] = [0 if df['org_twitter'][i]==0 else 1 for i in range(len(df))]\n",
    "    emaillist = ['ymail.com','lidf.co.uk','live.fr','rocketmail.com','yahoo.fr']\n",
    "    df.loc[~df[\"email_domain\"].isin(emaillist), \"email_domain\"] = 0\n",
    "    df.loc[df[\"email_domain\"].isin(emaillist), \"email_domain\"] = 1\n",
    "    countrylist = ['MA','VN','A1','PK','PH','ID','NG','CI','CZ','DZ']\n",
    "    df.loc[~df[\"country\"].isin(countrylist), \"country\"] = 0\n",
    "    df.loc[df[\"country\"].isin(countrylist), \"country\"] = 1\n",
    "    df.drop(['object_id', 'name','name_length','num_order','num_payouts','org_facebook','org_twitter','payee_name','payout_type','previous_payouts','previous_payouts','org_name','org_desc','listed','fb_published','event_published','event_end','event_start','event_created','has_logo','has_header','currency','description','approx_payout_date','delivery_method','body_length','channels','gts','sale_duration', 'sale_duration2', 'ticket_types', 'user_created', 'user_type', 'venue_address', 'venue_country', 'venue_latitude', 'venue_longitude', 'venue_name', 'venue_state', 'show_map'],axis=1,inplace=True)\n",
    "    return df\n",
    "\n",
    "\n",
    "\n",
    "\n",
    "#data frame used to train model\n",
    "df = clean_df('../data/data.json')\n",
    "df['fraud'] = df['acct_type'].str[0] == 'f'\n",
    "df.drop('acct_type',axis=1,inplace=True)"
   ]
  },
  {
   "cell_type": "code",
   "execution_count": null,
   "metadata": {},
   "outputs": [],
   "source": []
  },
  {
   "cell_type": "code",
   "execution_count": 35,
   "metadata": {},
   "outputs": [
    {
     "name": "stdout",
     "output_type": "stream",
     "text": [
      "<class 'pandas.core.frame.DataFrame'>\n",
      "RangeIndex: 14337 entries, 0 to 14336\n",
      "Data columns (total 17 columns):\n",
      " #   Column                 Non-Null Count  Dtype  \n",
      "---  ------                 --------------  -----  \n",
      " 0   country                14337 non-null  object \n",
      " 1   email_domain           14337 non-null  object \n",
      " 2   has_analytics          14337 non-null  int64  \n",
      " 3   user_age               14337 non-null  int64  \n",
      " 4   tickets_total          14337 non-null  int64  \n",
      " 5   tiers                  14337 non-null  int64  \n",
      " 6   max_cost               14337 non-null  float64\n",
      " 7   min_cost               14337 non-null  float64\n",
      " 8   total                  14337 non-null  float64\n",
      " 9   intl_trans             14337 non-null  bool   \n",
      " 10  type_one_user          14337 non-null  bool   \n",
      " 11  org_desc_exists        14337 non-null  int64  \n",
      " 12  org_name_exists        14337 non-null  int64  \n",
      " 13  previous_payout_count  14337 non-null  int64  \n",
      " 14  org_facebook_exists    14337 non-null  int64  \n",
      " 15  org_twitter_exists     14337 non-null  int64  \n",
      " 16  fraud                  14337 non-null  bool   \n",
      "dtypes: bool(3), float64(3), int64(9), object(2)\n",
      "memory usage: 1.6+ MB\n"
     ]
    }
   ],
   "source": [
    "df.info()"
   ]
  },
  {
   "cell_type": "code",
   "execution_count": null,
   "metadata": {},
   "outputs": [],
   "source": []
  },
  {
   "cell_type": "code",
   "execution_count": null,
   "metadata": {},
   "outputs": [],
   "source": []
  },
  {
   "cell_type": "code",
   "execution_count": null,
   "metadata": {},
   "outputs": [],
   "source": []
  },
  {
   "cell_type": "code",
   "execution_count": 36,
   "metadata": {},
   "outputs": [],
   "source": [
    "\n",
    "import matplotlib.pyplot as plt\n",
    "plt.style.use('fivethirtyeight')\n",
    "plt.rcParams.update({'font.size': 16})"
   ]
  },
  {
   "cell_type": "code",
   "execution_count": 37,
   "metadata": {},
   "outputs": [
    {
     "data": {
      "text/plain": [
       "(array([-0.5 , -0.25,  0.  ,  0.25,  0.5 ,  0.75,  1.  ,  1.25,  1.5 ]),\n",
       " <a list of 9 Text xticklabel objects>)"
      ]
     },
     "execution_count": 37,
     "metadata": {},
     "output_type": "execute_result"
    },
    {
     "data": {
      "image/png": "[encoded data removed]",
      "text/plain": [
       "<Figure size 1008x504 with 1 Axes>"
      ]
     },
     "metadata": {},
     "output_type": "display_data"
    }
   ],
   "source": [
    "email = pd.concat([df['email_domain'],df['fraud']], axis=1, sort=False)\n",
    "offenders = email[email['fraud']==True]['email_domain'].value_counts().rename_axis('email_domain').reset_index(name='counts')\n",
    "offenders = offenders[offenders['counts']>5]\n",
    "labels=offenders['email_domain']\n",
    "fig, ax = plt.subplots(figsize=(14,7))\n",
    "ax.bar(offenders['email_domain'],offenders['counts'])\n",
    "ax.set_xlabel('Email Domain')\n",
    "ax.set_ylabel('Fraud Counts')\n",
    "ax.set_title('Fraud Counts by Email Domain',fontweight='bold')\n",
    "plt.tight_layout()\n",
    "plt.xticks(rotation=45,ha='right')"
   ]
  },
  {
   "cell_type": "code",
   "execution_count": 38,
   "metadata": {},
   "outputs": [],
   "source": [
    "non_offenders = email[email['fraud']==False]['email_domain'].value_counts().rename_axis('email_domain').reset_index(name='counts')"
   ]
  },
  {
   "cell_type": "code",
   "execution_count": 39,
   "metadata": {},
   "outputs": [
    {
     "data": {
      "text/plain": [
       "(array([-0.5 , -0.25,  0.  ,  0.25,  0.5 ,  0.75,  1.  ,  1.25,  1.5 ]),\n",
       " <a list of 9 Text xticklabel objects>)"
      ]
     },
     "execution_count": 39,
     "metadata": {},
     "output_type": "execute_result"
    },
    {
     "data": {
      "image/png": "[encoded data removed]",
      "text/plain": [
       "<Figure size 1008x504 with 1 Axes>"
      ]
     },
     "metadata": {},
     "output_type": "display_data"
    }
   ],
   "source": [
    "non_offenders = email[email['fraud']==False]['email_domain'].value_counts().rename_axis('email_domain').reset_index(name='counts')\n",
    "non_offenders = non_offenders[:22]\n",
    "labels=non_offenders['email_domain']\n",
    "fig, ax = plt.subplots(figsize=(14,7))\n",
    "ax.bar(non_offenders['email_domain'],non_offenders['counts'])\n",
    "ax.set_xlabel('Email Domain')\n",
    "ax.set_ylabel('Event Counts')\n",
    "ax.set_title('Event Counts by Email',fontweight='bold')\n",
    "plt.tight_layout()\n",
    "plt.xticks(rotation=45,ha='right')"
   ]
  },
  {
   "cell_type": "code",
   "execution_count": 40,
   "metadata": {},
   "outputs": [],
   "source": [
    "user_df = pd.concat([df['user_age'],df['fraud']], axis=1, sort=False)"
   ]
  },
  {
   "cell_type": "code",
   "execution_count": 41,
   "metadata": {},
   "outputs": [
    {
     "data": {
      "text/plain": [
       "False    2020\n",
       "True      725\n",
       "Name: fraud, dtype: int64"
      ]
     },
     "execution_count": 41,
     "metadata": {},
     "output_type": "execute_result"
    }
   ],
   "source": [
    "user_df[user_df['user_age']==0]['fraud'].value_counts()"
   ]
  },
  {
   "cell_type": "code",
   "execution_count": 42,
   "metadata": {},
   "outputs": [
    {
     "data": {
      "text/plain": [
       "Series([], Name: fraud, dtype: int64)"
      ]
     },
     "execution_count": 42,
     "metadata": {},
     "output_type": "execute_result"
    }
   ],
   "source": [
    "df[df['country']=='US']['fraud'].value_counts()\n"
   ]
  },
  {
   "cell_type": "code",
   "execution_count": 43,
   "metadata": {},
   "outputs": [
    {
     "data": {
      "text/plain": [
       "0    1116\n",
       "1     177\n",
       "Name: country, dtype: int64"
      ]
     },
     "execution_count": 43,
     "metadata": {},
     "output_type": "execute_result"
    }
   ],
   "source": [
    "df[df['fraud']==True]['country'].value_counts()"
   ]
  },
  {
   "cell_type": "code",
   "execution_count": 44,
   "metadata": {},
   "outputs": [
    {
     "data": {
      "text/plain": [
       "0        0\n",
       "1        0\n",
       "2        0\n",
       "3        0\n",
       "4        0\n",
       "        ..\n",
       "14332    0\n",
       "14333    0\n",
       "14334    0\n",
       "14335    0\n",
       "14336    0\n",
       "Name: country, Length: 14337, dtype: object"
      ]
     },
     "execution_count": 44,
     "metadata": {},
     "output_type": "execute_result"
    }
   ],
   "source": [
    "df['country']"
   ]
  },
  {
   "cell_type": "code",
   "execution_count": 45,
   "metadata": {},
   "outputs": [
    {
     "data": {
      "text/plain": [
       "14337"
      ]
     },
     "execution_count": 45,
     "metadata": {},
     "output_type": "execute_result"
    }
   ],
   "source": [
    "len(df)"
   ]
  },
  {
   "cell_type": "code",
   "execution_count": 46,
   "metadata": {},
   "outputs": [
    {
     "data": {
      "text/plain": [
       "0.20229681978798586"
      ]
     },
     "execution_count": 46,
     "metadata": {},
     "output_type": "execute_result"
    }
   ],
   "source": [
    "458/(1806+458)"
   ]
  },
  {
   "cell_type": "code",
   "execution_count": null,
   "metadata": {},
   "outputs": [],
   "source": []
  },
  {
   "cell_type": "code",
   "execution_count": 47,
   "metadata": {},
   "outputs": [
    {
     "data": {
      "text/plain": [
       "Other    14337\n",
       "Name: email_domain, dtype: int64"
      ]
     },
     "execution_count": 47,
     "metadata": {},
     "output_type": "execute_result"
    }
   ],
   "source": [
    "#Make plot\n",
    "emaillist = ['ymail.com','lidf.co.uk','live.fr','rocketmail.com','yahoo.fr']\n",
    "email.loc[~email[\"email_domain\"].isin(emaillist), \"email_domain\"] = \"Other\"\n",
    "email['email_domain'].value_counts()"
   ]
  },
  {
   "cell_type": "code",
   "execution_count": null,
   "metadata": {},
   "outputs": [],
   "source": []
  },
  {
   "cell_type": "code",
   "execution_count": null,
   "metadata": {},
   "outputs": [],
   "source": []
  },
  {
   "cell_type": "code",
   "execution_count": 80,
   "metadata": {},
   "outputs": [
    {
     "data": {
      "text/html": [
       "<div>\n",
       "<style scoped>\n",
       "    .dataframe tbody tr th:only-of-type {\n",
       "        vertical-align: middle;\n",
       "    }\n",
       "\n",
       "    .dataframe tbody tr th {\n",
       "        vertical-align: top;\n",
       "    }\n",
       "\n",
       "    .dataframe thead th {\n",
       "        text-align: right;\n",
       "    }\n",
       "</style>\n",
       "<table border=\"1\" class=\"dataframe\">\n",
       "  <thead>\n",
       "    <tr style=\"text-align: right;\">\n",
       "      <th></th>\n",
       "      <th>country</th>\n",
       "      <th>email_domain</th>\n",
       "      <th>has_analytics</th>\n",
       "      <th>user_age</th>\n",
       "      <th>tickets_total</th>\n",
       "      <th>tiers</th>\n",
       "      <th>max_cost</th>\n",
       "      <th>min_cost</th>\n",
       "      <th>total</th>\n",
       "      <th>intl_trans</th>\n",
       "      <th>type_one_user</th>\n",
       "      <th>org_desc_exists</th>\n",
       "      <th>org_name_exists</th>\n",
       "      <th>previous_payout_count</th>\n",
       "      <th>org_facebook_exists</th>\n",
       "      <th>org_twitter_exists</th>\n",
       "      <th>fraud</th>\n",
       "    </tr>\n",
       "  </thead>\n",
       "  <tbody>\n",
       "    <tr>\n",
       "      <th>0</th>\n",
       "      <td>0</td>\n",
       "      <td>0</td>\n",
       "      <td>0</td>\n",
       "      <td>36</td>\n",
       "      <td>920</td>\n",
       "      <td>3</td>\n",
       "      <td>550.00</td>\n",
       "      <td>25.00</td>\n",
       "      <td>36000.00</td>\n",
       "      <td>False</td>\n",
       "      <td>True</td>\n",
       "      <td>0</td>\n",
       "      <td>1</td>\n",
       "      <td>0</td>\n",
       "      <td>0</td>\n",
       "      <td>0</td>\n",
       "      <td>True</td>\n",
       "    </tr>\n",
       "    <tr>\n",
       "      <th>1</th>\n",
       "      <td>0</td>\n",
       "      <td>0</td>\n",
       "      <td>0</td>\n",
       "      <td>149</td>\n",
       "      <td>100</td>\n",
       "      <td>2</td>\n",
       "      <td>35.00</td>\n",
       "      <td>35.00</td>\n",
       "      <td>3500.00</td>\n",
       "      <td>False</td>\n",
       "      <td>False</td>\n",
       "      <td>1</td>\n",
       "      <td>1</td>\n",
       "      <td>49</td>\n",
       "      <td>0</td>\n",
       "      <td>1</td>\n",
       "      <td>False</td>\n",
       "    </tr>\n",
       "    <tr>\n",
       "      <th>2</th>\n",
       "      <td>0</td>\n",
       "      <td>0</td>\n",
       "      <td>0</td>\n",
       "      <td>214</td>\n",
       "      <td>48</td>\n",
       "      <td>1</td>\n",
       "      <td>93.51</td>\n",
       "      <td>93.51</td>\n",
       "      <td>4488.48</td>\n",
       "      <td>False</td>\n",
       "      <td>False</td>\n",
       "      <td>1</td>\n",
       "      <td>1</td>\n",
       "      <td>36</td>\n",
       "      <td>0</td>\n",
       "      <td>0</td>\n",
       "      <td>False</td>\n",
       "    </tr>\n",
       "    <tr>\n",
       "      <th>3</th>\n",
       "      <td>0</td>\n",
       "      <td>0</td>\n",
       "      <td>0</td>\n",
       "      <td>889</td>\n",
       "      <td>30000</td>\n",
       "      <td>6</td>\n",
       "      <td>25.00</td>\n",
       "      <td>5.00</td>\n",
       "      <td>410000.00</td>\n",
       "      <td>True</td>\n",
       "      <td>False</td>\n",
       "      <td>0</td>\n",
       "      <td>0</td>\n",
       "      <td>21</td>\n",
       "      <td>0</td>\n",
       "      <td>0</td>\n",
       "      <td>False</td>\n",
       "    </tr>\n",
       "    <tr>\n",
       "      <th>4</th>\n",
       "      <td>0</td>\n",
       "      <td>0</td>\n",
       "      <td>0</td>\n",
       "      <td>35</td>\n",
       "      <td>264</td>\n",
       "      <td>8</td>\n",
       "      <td>200.00</td>\n",
       "      <td>36.00</td>\n",
       "      <td>28596.00</td>\n",
       "      <td>False</td>\n",
       "      <td>False</td>\n",
       "      <td>1</td>\n",
       "      <td>1</td>\n",
       "      <td>49</td>\n",
       "      <td>0</td>\n",
       "      <td>0</td>\n",
       "      <td>False</td>\n",
       "    </tr>\n",
       "    <tr>\n",
       "      <th>...</th>\n",
       "      <td>...</td>\n",
       "      <td>...</td>\n",
       "      <td>...</td>\n",
       "      <td>...</td>\n",
       "      <td>...</td>\n",
       "      <td>...</td>\n",
       "      <td>...</td>\n",
       "      <td>...</td>\n",
       "      <td>...</td>\n",
       "      <td>...</td>\n",
       "      <td>...</td>\n",
       "      <td>...</td>\n",
       "      <td>...</td>\n",
       "      <td>...</td>\n",
       "      <td>...</td>\n",
       "      <td>...</td>\n",
       "      <td>...</td>\n",
       "    </tr>\n",
       "    <tr>\n",
       "      <th>14332</th>\n",
       "      <td>0</td>\n",
       "      <td>0</td>\n",
       "      <td>0</td>\n",
       "      <td>0</td>\n",
       "      <td>400</td>\n",
       "      <td>1</td>\n",
       "      <td>45.00</td>\n",
       "      <td>45.00</td>\n",
       "      <td>18000.00</td>\n",
       "      <td>False</td>\n",
       "      <td>True</td>\n",
       "      <td>0</td>\n",
       "      <td>0</td>\n",
       "      <td>0</td>\n",
       "      <td>0</td>\n",
       "      <td>0</td>\n",
       "      <td>True</td>\n",
       "    </tr>\n",
       "    <tr>\n",
       "      <th>14333</th>\n",
       "      <td>0</td>\n",
       "      <td>0</td>\n",
       "      <td>0</td>\n",
       "      <td>1374</td>\n",
       "      <td>3256</td>\n",
       "      <td>8</td>\n",
       "      <td>90.00</td>\n",
       "      <td>0.00</td>\n",
       "      <td>187600.00</td>\n",
       "      <td>False</td>\n",
       "      <td>False</td>\n",
       "      <td>1</td>\n",
       "      <td>1</td>\n",
       "      <td>5</td>\n",
       "      <td>0</td>\n",
       "      <td>0</td>\n",
       "      <td>False</td>\n",
       "    </tr>\n",
       "    <tr>\n",
       "      <th>14334</th>\n",
       "      <td>0</td>\n",
       "      <td>0</td>\n",
       "      <td>0</td>\n",
       "      <td>84</td>\n",
       "      <td>148</td>\n",
       "      <td>5</td>\n",
       "      <td>150.00</td>\n",
       "      <td>5.00</td>\n",
       "      <td>3450.00</td>\n",
       "      <td>True</td>\n",
       "      <td>False</td>\n",
       "      <td>0</td>\n",
       "      <td>1</td>\n",
       "      <td>1</td>\n",
       "      <td>0</td>\n",
       "      <td>0</td>\n",
       "      <td>False</td>\n",
       "    </tr>\n",
       "    <tr>\n",
       "      <th>14335</th>\n",
       "      <td>0</td>\n",
       "      <td>0</td>\n",
       "      <td>0</td>\n",
       "      <td>812</td>\n",
       "      <td>100</td>\n",
       "      <td>2</td>\n",
       "      <td>79.33</td>\n",
       "      <td>79.33</td>\n",
       "      <td>7933.00</td>\n",
       "      <td>False</td>\n",
       "      <td>False</td>\n",
       "      <td>0</td>\n",
       "      <td>0</td>\n",
       "      <td>128</td>\n",
       "      <td>0</td>\n",
       "      <td>0</td>\n",
       "      <td>False</td>\n",
       "    </tr>\n",
       "    <tr>\n",
       "      <th>14336</th>\n",
       "      <td>0</td>\n",
       "      <td>0</td>\n",
       "      <td>0</td>\n",
       "      <td>0</td>\n",
       "      <td>20</td>\n",
       "      <td>1</td>\n",
       "      <td>283.00</td>\n",
       "      <td>283.00</td>\n",
       "      <td>5660.00</td>\n",
       "      <td>False</td>\n",
       "      <td>True</td>\n",
       "      <td>0</td>\n",
       "      <td>1</td>\n",
       "      <td>0</td>\n",
       "      <td>0</td>\n",
       "      <td>0</td>\n",
       "      <td>True</td>\n",
       "    </tr>\n",
       "  </tbody>\n",
       "</table>\n",
       "<p>14337 rows × 17 columns</p>\n",
       "</div>"
      ],
      "text/plain": [
       "      country email_domain  has_analytics  user_age  tickets_total  tiers  \\\n",
       "0           0            0              0        36            920      3   \n",
       "1           0            0              0       149            100      2   \n",
       "2           0            0              0       214             48      1   \n",
       "3           0            0              0       889          30000      6   \n",
       "4           0            0              0        35            264      8   \n",
       "...       ...          ...            ...       ...            ...    ...   \n",
       "14332       0            0              0         0            400      1   \n",
       "14333       0            0              0      1374           3256      8   \n",
       "14334       0            0              0        84            148      5   \n",
       "14335       0            0              0       812            100      2   \n",
       "14336       0            0              0         0             20      1   \n",
       "\n",
       "       max_cost  min_cost      total  intl_trans  type_one_user  \\\n",
       "0        550.00     25.00   36000.00       False           True   \n",
       "1         35.00     35.00    3500.00       False          False   \n",
       "2         93.51     93.51    4488.48       False          False   \n",
       "3         25.00      5.00  410000.00        True          False   \n",
       "4        200.00     36.00   28596.00       False          False   \n",
       "...         ...       ...        ...         ...            ...   \n",
       "14332     45.00     45.00   18000.00       False           True   \n",
       "14333     90.00      0.00  187600.00       False          False   \n",
       "14334    150.00      5.00    3450.00        True          False   \n",
       "14335     79.33     79.33    7933.00       False          False   \n",
       "14336    283.00    283.00    5660.00       False           True   \n",
       "\n",
       "       org_desc_exists  org_name_exists  previous_payout_count  \\\n",
       "0                    0                1                      0   \n",
       "1                    1                1                     49   \n",
       "2                    1                1                     36   \n",
       "3                    0                0                     21   \n",
       "4                    1                1                     49   \n",
       "...                ...              ...                    ...   \n",
       "14332                0                0                      0   \n",
       "14333                1                1                      5   \n",
       "14334                0                1                      1   \n",
       "14335                0                0                    128   \n",
       "14336                0                1                      0   \n",
       "\n",
       "       org_facebook_exists  org_twitter_exists  fraud  \n",
       "0                        0                   0   True  \n",
       "1                        0                   1  False  \n",
       "2                        0                   0  False  \n",
       "3                        0                   0  False  \n",
       "4                        0                   0  False  \n",
       "...                    ...                 ...    ...  \n",
       "14332                    0                   0   True  \n",
       "14333                    0                   0  False  \n",
       "14334                    0                   0  False  \n",
       "14335                    0                   0  False  \n",
       "14336                    0                   0   True  \n",
       "\n",
       "[14337 rows x 17 columns]"
      ]
     },
     "execution_count": 80,
     "metadata": {},
     "output_type": "execute_result"
    }
   ],
   "source": [
    "df"
   ]
  },
  {
   "cell_type": "code",
   "execution_count": null,
   "metadata": {},
   "outputs": [],
   "source": []
  },
  {
   "cell_type": "code",
   "execution_count": null,
   "metadata": {},
   "outputs": [],
   "source": []
  },
  {
   "cell_type": "code",
   "execution_count": null,
   "metadata": {},
   "outputs": [],
   "source": []
  },
  {
   "cell_type": "code",
   "execution_count": null,
   "metadata": {},
   "outputs": [],
   "source": []
  },
  {
   "cell_type": "code",
   "execution_count": 48,
   "metadata": {},
   "outputs": [],
   "source": [
    "X=df.drop('fraud',axis=1)\n",
    "y=df['fraud']"
   ]
  },
  {
   "cell_type": "code",
   "execution_count": 49,
   "metadata": {},
   "outputs": [],
   "source": [
    "rf = RandomForestClassifier(n_estimators=100)\n",
    "X_train, X_test, y_train, y_test = train_test_split(X, y, stratify=y)"
   ]
  },
  {
   "cell_type": "code",
   "execution_count": 50,
   "metadata": {},
   "outputs": [
    {
     "data": {
      "text/plain": [
       "RandomForestClassifier(bootstrap=True, ccp_alpha=0.0, class_weight=None,\n",
       "                       criterion='gini', max_depth=None, max_features='auto',\n",
       "                       max_leaf_nodes=None, max_samples=None,\n",
       "                       min_impurity_decrease=0.0, min_impurity_split=None,\n",
       "                       min_samples_leaf=1, min_samples_split=2,\n",
       "                       min_weight_fraction_leaf=0.0, n_estimators=100,\n",
       "                       n_jobs=None, oob_score=False, random_state=None,\n",
       "                       verbose=0, warm_start=False)"
      ]
     },
     "execution_count": 50,
     "metadata": {},
     "output_type": "execute_result"
    }
   ],
   "source": [
    "rf.fit(X_train,y_train)"
   ]
  },
  {
   "cell_type": "code",
   "execution_count": 51,
   "metadata": {},
   "outputs": [],
   "source": [
    "def eval_model(model, X_test, y_test):\n",
    "    preds = model.predict(X_test)\n",
    "    acc = accuracy_score(y_test, preds)\n",
    "    rec = recall_score(y_test, preds)\n",
    "    prec = precision_score(y_test, preds)\n",
    "    f1 = f1_score(y_test, preds)\n",
    "    print('===ACCURACY===')\n",
    "    print(acc)\n",
    "    print('===RECALL===')\n",
    "    print(rec)\n",
    "    print('===PRECISION===')\n",
    "    print(prec)\n",
    "    print('===F1===')\n",
    "    print(f1)"
   ]
  },
  {
   "cell_type": "code",
   "execution_count": 52,
   "metadata": {},
   "outputs": [
    {
     "name": "stdout",
     "output_type": "stream",
     "text": [
      "===ACCURACY===\n",
      "0.9829846582984658\n",
      "===RECALL===\n",
      "0.8885448916408669\n",
      "===PRECISION===\n",
      "0.9198717948717948\n",
      "===F1===\n",
      "0.9039370078740158\n"
     ]
    }
   ],
   "source": [
    "eval_model(rf,X_test,y_test)"
   ]
  },
  {
   "cell_type": "code",
   "execution_count": 66,
   "metadata": {},
   "outputs": [],
   "source": [
    "\n",
    "import requests\n",
    "page = requests.get('http://galvanize-case-study-on-fraud.herokuapp.com/data_point')\n"
   ]
  },
  {
   "cell_type": "code",
   "execution_count": 67,
   "metadata": {
    "scrolled": false
   },
   "outputs": [],
   "source": [
    "x =json.loads(page.content)"
   ]
  },
  {
   "cell_type": "code",
   "execution_count": 82,
   "metadata": {},
   "outputs": [],
   "source": [
    "import requests\n",
    "def get_page():\n",
    "    \"\"\"Revieves data from the specified url for prediction\n",
    "    Returns: data (PandasDataFrame): 1 row DataFrame from url\"\"\"\n",
    "    d = json.loads(requests.get('http://galvanize-case-study-on-fraud.herokuapp.com/data_point').text)\n",
    "    data = pd.DataFrame(columns=list(d.keys()))\n",
    "    data.loc[0] = list(d.values())\n",
    "    return(data)"
   ]
  },
  {
   "cell_type": "code",
   "execution_count": 138,
   "metadata": {},
   "outputs": [],
   "source": [
    "df_test = get_page()"
   ]
  },
  {
   "cell_type": "code",
   "execution_count": 139,
   "metadata": {},
   "outputs": [
    {
     "data": {
      "text/plain": [
       "0    True\n",
       "Name: description, dtype: bool"
      ]
     },
     "execution_count": 139,
     "metadata": {},
     "output_type": "execute_result"
    }
   ],
   "source": [
    "df_test['description']==df_test2['description']"
   ]
  },
  {
   "cell_type": "code",
   "execution_count": 88,
   "metadata": {},
   "outputs": [],
   "source": [
    "def get_page():\n",
    "    \"\"\"Revieves data from the specified url for prediction\n",
    "    Returns: data (PandasDataFrame): 1 row DataFrame from url\"\"\"\n",
    "    d = json.loads(requests.get('http://galvanize-case-study-on-fraud.herokuapp.com/data_point').text)\n",
    "    data = pd.DataFrame(columns=list(d.keys()))\n",
    "    data.loc[0] = list(d.values())\n",
    "    return(data)\n",
    "def clean_new_data2(df):\n",
    "    #df=pd.read_json(path_to_file)\n",
    "    df['tickets_total'] = df['ticket_types'].apply(get_num_tickets)\n",
    "    df['tiers'] = df['ticket_types'].apply(get_num_tiers)\n",
    "    df['max_cost'] = df['ticket_types'].apply(get_max_ticket_cost)\n",
    "    df['min_cost'] = df['ticket_types'].apply(get_min_ticket_cost)\n",
    "    df['total'] = df['ticket_types'].apply(get_total_value)\n",
    "    df['intl_trans'] = df['country'] != df['venue_country']\n",
    "    df['type_one_user'] = df['user_type'] == 1\n",
    "    df['org_desc_exists'] = [0 if len(df['org_desc'][i])==0 else 1 for i in range(len(df))]\n",
    "    df['org_name_exists'] = [0 if len(df['org_name'][i])==0 else 1 for i in range(len(df))]\n",
    "    df['previous_payout_count'] = [len(df.previous_payouts[i]) for i in range(len(df))]\n",
    "    df['org_facebook'].fillna(value=0, inplace=True)\n",
    "    df['org_twitter'].fillna(value=0, inplace=True)\n",
    "    df['org_facebook_exists'] = [0 if df['org_facebook'][i]==0 else 1 for i in range(len(df))]\n",
    "    df['org_twitter_exists'] = [0 if df['org_twitter'][i]==0 else 1 for i in range(len(df))]\n",
    "    emaillist = ['ymail.com','lidf.co.uk','live.fr','rocketmail.com','yahoo.fr']\n",
    "    df.loc[~df[\"email_domain\"].isin(emaillist), \"email_domain\"] = 0\n",
    "    df.loc[df[\"email_domain\"].isin(emaillist), \"email_domain\"] = 1\n",
    "    countrylist = ['MA','VN','A1','PK','PH','ID','NG','CI','CZ','DZ']\n",
    "    df.loc[~df[\"country\"].isin(countrylist), \"country\"] = 0\n",
    "    df.loc[df[\"country\"].isin(countrylist), \"country\"] = 1\n",
    "    df.drop(['object_id', 'name','name_length','num_order','num_payouts','org_facebook','org_twitter','payee_name','payout_type','previous_payouts','previous_payouts','org_name','org_desc','listed','fb_published','event_published','event_end','event_start','event_created','has_logo','has_header','currency','description','approx_payout_date','delivery_method','body_length','channels','gts','sale_duration', 'sale_duration2', 'ticket_types', 'user_created', 'user_type', 'venue_address', 'venue_country', 'venue_latitude', 'venue_longitude', 'venue_name', 'venue_state', 'show_map'],axis=1,inplace=True)\n",
    "    return df"
   ]
  },
  {
   "cell_type": "code",
   "execution_count": 89,
   "metadata": {},
   "outputs": [
    {
     "data": {
      "text/html": [
       "<div>\n",
       "<style scoped>\n",
       "    .dataframe tbody tr th:only-of-type {\n",
       "        vertical-align: middle;\n",
       "    }\n",
       "\n",
       "    .dataframe tbody tr th {\n",
       "        vertical-align: top;\n",
       "    }\n",
       "\n",
       "    .dataframe thead th {\n",
       "        text-align: right;\n",
       "    }\n",
       "</style>\n",
       "<table border=\"1\" class=\"dataframe\">\n",
       "  <thead>\n",
       "    <tr style=\"text-align: right;\">\n",
       "      <th></th>\n",
       "      <th>country</th>\n",
       "      <th>email_domain</th>\n",
       "      <th>has_analytics</th>\n",
       "      <th>user_age</th>\n",
       "      <th>tickets_total</th>\n",
       "      <th>tiers</th>\n",
       "      <th>max_cost</th>\n",
       "      <th>min_cost</th>\n",
       "      <th>total</th>\n",
       "      <th>intl_trans</th>\n",
       "      <th>type_one_user</th>\n",
       "      <th>org_desc_exists</th>\n",
       "      <th>org_name_exists</th>\n",
       "      <th>previous_payout_count</th>\n",
       "      <th>org_facebook_exists</th>\n",
       "      <th>org_twitter_exists</th>\n",
       "    </tr>\n",
       "  </thead>\n",
       "  <tbody>\n",
       "    <tr>\n",
       "      <th>0</th>\n",
       "      <td>0</td>\n",
       "      <td>0</td>\n",
       "      <td>0</td>\n",
       "      <td>371</td>\n",
       "      <td>129</td>\n",
       "      <td>6</td>\n",
       "      <td>500.0</td>\n",
       "      <td>0.0</td>\n",
       "      <td>3850.0</td>\n",
       "      <td>False</td>\n",
       "      <td>False</td>\n",
       "      <td>0</td>\n",
       "      <td>1</td>\n",
       "      <td>1</td>\n",
       "      <td>1</td>\n",
       "      <td>0</td>\n",
       "    </tr>\n",
       "  </tbody>\n",
       "</table>\n",
       "</div>"
      ],
      "text/plain": [
       "  country email_domain has_analytics user_age  tickets_total  tiers  max_cost  \\\n",
       "0       0            0             0      371            129      6     500.0   \n",
       "\n",
       "   min_cost   total  intl_trans  type_one_user  org_desc_exists  \\\n",
       "0       0.0  3850.0       False          False                0   \n",
       "\n",
       "   org_name_exists  previous_payout_count  org_facebook_exists  \\\n",
       "0                1                      1                    1   \n",
       "\n",
       "   org_twitter_exists  \n",
       "0                   0  "
      ]
     },
     "execution_count": 89,
     "metadata": {},
     "output_type": "execute_result"
    }
   ],
   "source": [
    "clean_new_data2(df_test)"
   ]
  },
  {
   "cell_type": "code",
   "execution_count": null,
   "metadata": {},
   "outputs": [],
   "source": []
  },
  {
   "cell_type": "code",
   "execution_count": 106,
   "metadata": {},
   "outputs": [
    {
     "data": {
      "text/plain": [
       "1590775103.158088"
      ]
     },
     "execution_count": 106,
     "metadata": {},
     "output_type": "execute_result"
    }
   ],
   "source": [
    "start"
   ]
  },
  {
   "cell_type": "code",
   "execution_count": 107,
   "metadata": {},
   "outputs": [],
   "source": [
    "end = time.time()"
   ]
  },
  {
   "cell_type": "code",
   "execution_count": 128,
   "metadata": {},
   "outputs": [],
   "source": [
    "import threading \n",
    "def ping_site():\n",
    "    \n",
    "    \n",
    "timer = threading.Timer(6.0, ping_site) \n",
    "timer.start()\n"
   ]
  },
  {
   "cell_type": "code",
   "execution_count": 129,
   "metadata": {},
   "outputs": [],
   "source": [
    "timer = threading.Timer(6.0, ping_site) "
   ]
  },
  {
   "cell_type": "code",
   "execution_count": 131,
   "metadata": {},
   "outputs": [
    {
     "name": "stdout",
     "output_type": "stream",
     "text": [
      "opk\n"
     ]
    }
   ],
   "source": [
    "timer.start()"
   ]
  },
  {
   "cell_type": "code",
   "execution_count": 124,
   "metadata": {},
   "outputs": [],
   "source": []
  },
  {
   "cell_type": "code",
   "execution_count": null,
   "metadata": {},
   "outputs": [],
   "source": []
  }
 ],
 "metadata": {
  "kernelspec": {
   "display_name": "Python 3",
   "language": "python",
   "name": "python3"
  },
  "language_info": {
   "codemirror_mode": {
    "name": "ipython",
    "version": 3
   },
   "file_extension": ".py",
   "mimetype": "text/x-python",
   "name": "python",
   "nbconvert_exporter": "python",
   "pygments_lexer": "ipython3",
   "version": "3.7.6"
  }
 },
 "nbformat": 4,
 "nbformat_minor": 4
}
